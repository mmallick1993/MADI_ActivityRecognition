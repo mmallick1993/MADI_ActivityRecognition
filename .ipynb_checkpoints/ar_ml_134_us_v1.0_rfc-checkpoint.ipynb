{
 "cells": [
  {
   "cell_type": "code",
   "execution_count": 1,
   "metadata": {},
   "outputs": [],
   "source": [
    "import numpy as np\n",
    "import pandas as pd\n",
    "import seaborn as sns\n",
    "from tqdm.notebook import tqdm\n",
    "import matplotlib.pyplot as plt\n",
    "from os import chdir\n",
    "from glob import glob\n",
    "import pandas as pd\n",
    "import glob\n",
    "import os\n",
    "import matplotlib\n",
    "\n",
    "from sklearn.preprocessing import MinMaxScaler    \n",
    "from sklearn.model_selection import train_test_split\n",
    "from sklearn.metrics import confusion_matrix, classification_report\n",
    "from sklearn.model_selection import cross_val_score\n"
   ]
  },
  {
   "cell_type": "code",
   "execution_count": 2,
   "metadata": {},
   "outputs": [
    {
     "name": "stdout",
     "output_type": "stream",
     "text": [
      "(1926896, 5)\n",
      "(1923177, 4)\n"
     ]
    },
    {
     "data": {
      "text/plain": [
       "<bound method NDFrame.head of             x     y     z  label\n",
       "0        2287  2948  2189      1\n",
       "1        2249  2677  2046      1\n",
       "2        2270  2568  2005      1\n",
       "3        2222  2565  2003      1\n",
       "4        2235  2571  2074      1\n",
       "...       ...   ...   ...    ...\n",
       "1926890  1926  2382  2072      7\n",
       "1926891  1927  2388  2074      7\n",
       "1926892  1930  2383  2074      7\n",
       "1926893  1929  2385  2076      7\n",
       "1926894  1926  2385  2078      7\n",
       "\n",
       "[1923177 rows x 4 columns]>"
      ]
     },
     "execution_count": 2,
     "metadata": {},
     "output_type": "execute_result"
    }
   ],
   "source": [
    "def mergeCSV(file_list):\n",
    "    df_merge=pd.DataFrame()\n",
    "    for file in file_list:\n",
    "        df=pd.read_csv(file, header=None)\n",
    "        df_merge=pd.concat([df, df_merge], ignore_index=True, sort=False)\n",
    "    print(df_merge.shape)\n",
    "    \n",
    "    return df_merge\n",
    "\n",
    "\n",
    "file_list=[]\n",
    "for filepath in glob.iglob(r'C:/Users/antonebert/Desktop/WS2021 Programing/MADI/Activity Recognition from Single Chest-Mounted Accelerometer/*.csv'):\n",
    "    file_list.append(filepath)\n",
    "\n",
    "df=mergeCSV(file_list)\n",
    "df.columns=['Sequence','x','y','z','label']\n",
    "df=df.drop(columns=['Sequence'])\n",
    "\n",
    "df=df[df[\"label\"] != 0] #data cleaning: Leaving out unlabeled data || (3719, 4)\n",
    "print(df.shape)\n",
    "\n",
    "df.head"
   ]
  },
  {
   "cell_type": "markdown",
   "metadata": {},
   "source": [
    "## Data are separated by participant\n",
    "Each file contains the following information\n",
    "sequential number, x acceleration, y acceleration, z acceleration, label\n",
    "Labels are codified by numbers\n",
    "\n",
    "1: Working at Computer\n",
    "\n",
    "2: Standing Up, Walking and Going updown stairs\n",
    "\n",
    "3: Standing\n",
    "\n",
    "4: Walking\n",
    "\n",
    "5: Going UpDown Stairs\n",
    "\n",
    "6: Walking and Talking with Someone\n",
    "\n",
    "7: Talking while Standing\n"
   ]
  },
  {
   "cell_type": "markdown",
   "metadata": {},
   "source": [
    "#### Class Distribution "
   ]
  },
  {
   "cell_type": "code",
   "execution_count": 3,
   "metadata": {},
   "outputs": [
    {
     "data": {
      "text/plain": [
       "<AxesSubplot:xlabel='label', ylabel='count'>"
      ]
     },
     "execution_count": 3,
     "metadata": {},
     "output_type": "execute_result"
    },
    {
     "data": {
      "image/png": "[encoded data removed]",
      "text/plain": [
       "<Figure size 432x288 with 1 Axes>"
      ]
     },
     "metadata": {
      "needs_background": "light"
     },
     "output_type": "display_data"
    }
   ],
   "source": [
    "sns.countplot(x = 'label', data=df)"
   ]
  },
  {
   "cell_type": "code",
   "execution_count": 4,
   "metadata": {},
   "outputs": [
    {
     "data": {
      "text/html": [
       "<div>\n",
       "<style scoped>\n",
       "    .dataframe tbody tr th:only-of-type {\n",
       "        vertical-align: middle;\n",
       "    }\n",
       "\n",
       "    .dataframe tbody tr th {\n",
       "        vertical-align: top;\n",
       "    }\n",
       "\n",
       "    .dataframe thead th {\n",
       "        text-align: right;\n",
       "    }\n",
       "</style>\n",
       "<table border=\"1\" class=\"dataframe\">\n",
       "  <thead>\n",
       "    <tr style=\"text-align: right;\">\n",
       "      <th></th>\n",
       "      <th>x</th>\n",
       "      <th>y</th>\n",
       "      <th>z</th>\n",
       "      <th>label</th>\n",
       "    </tr>\n",
       "  </thead>\n",
       "  <tbody>\n",
       "    <tr>\n",
       "      <th>0</th>\n",
       "      <td>2287</td>\n",
       "      <td>2948</td>\n",
       "      <td>2189</td>\n",
       "      <td>1</td>\n",
       "    </tr>\n",
       "    <tr>\n",
       "      <th>1</th>\n",
       "      <td>2249</td>\n",
       "      <td>2677</td>\n",
       "      <td>2046</td>\n",
       "      <td>1</td>\n",
       "    </tr>\n",
       "    <tr>\n",
       "      <th>2</th>\n",
       "      <td>2270</td>\n",
       "      <td>2568</td>\n",
       "      <td>2005</td>\n",
       "      <td>1</td>\n",
       "    </tr>\n",
       "    <tr>\n",
       "      <th>3</th>\n",
       "      <td>2222</td>\n",
       "      <td>2565</td>\n",
       "      <td>2003</td>\n",
       "      <td>1</td>\n",
       "    </tr>\n",
       "    <tr>\n",
       "      <th>4</th>\n",
       "      <td>2235</td>\n",
       "      <td>2571</td>\n",
       "      <td>2074</td>\n",
       "      <td>1</td>\n",
       "    </tr>\n",
       "    <tr>\n",
       "      <th>...</th>\n",
       "      <td>...</td>\n",
       "      <td>...</td>\n",
       "      <td>...</td>\n",
       "      <td>...</td>\n",
       "    </tr>\n",
       "    <tr>\n",
       "      <th>1926885</th>\n",
       "      <td>1931</td>\n",
       "      <td>2383</td>\n",
       "      <td>2076</td>\n",
       "      <td>7</td>\n",
       "    </tr>\n",
       "    <tr>\n",
       "      <th>1926886</th>\n",
       "      <td>1927</td>\n",
       "      <td>2383</td>\n",
       "      <td>2079</td>\n",
       "      <td>7</td>\n",
       "    </tr>\n",
       "    <tr>\n",
       "      <th>1926887</th>\n",
       "      <td>1931</td>\n",
       "      <td>2388</td>\n",
       "      <td>2076</td>\n",
       "      <td>7</td>\n",
       "    </tr>\n",
       "    <tr>\n",
       "      <th>1926888</th>\n",
       "      <td>1932</td>\n",
       "      <td>2383</td>\n",
       "      <td>2072</td>\n",
       "      <td>7</td>\n",
       "    </tr>\n",
       "    <tr>\n",
       "      <th>1926889</th>\n",
       "      <td>1931</td>\n",
       "      <td>2386</td>\n",
       "      <td>2073</td>\n",
       "      <td>7</td>\n",
       "    </tr>\n",
       "  </tbody>\n",
       "</table>\n",
       "<p>1923172 rows × 4 columns</p>\n",
       "</div>"
      ],
      "text/plain": [
       "            x     y     z  label\n",
       "0        2287  2948  2189      1\n",
       "1        2249  2677  2046      1\n",
       "2        2270  2568  2005      1\n",
       "3        2222  2565  2003      1\n",
       "4        2235  2571  2074      1\n",
       "...       ...   ...   ...    ...\n",
       "1926885  1931  2383  2076      7\n",
       "1926886  1927  2383  2079      7\n",
       "1926887  1931  2388  2076      7\n",
       "1926888  1932  2383  2072      7\n",
       "1926889  1931  2386  2073      7\n",
       "\n",
       "[1923172 rows x 4 columns]"
      ]
     },
     "execution_count": 4,
     "metadata": {},
     "output_type": "execute_result"
    }
   ],
   "source": [
    "df.head(-5)"
   ]
  },
  {
   "cell_type": "code",
   "execution_count": 6,
   "metadata": {},
   "outputs": [
    {
     "data": {
      "text/plain": [
       "<AxesSubplot:xlabel='label', ylabel='count'>"
      ]
     },
     "execution_count": 6,
     "metadata": {},
     "output_type": "execute_result"
    },
    {
     "data": {
      "image/png": "[encoded data removed]",
      "text/plain": [
       "<Figure size 432x288 with 1 Axes>"
      ]
     },
     "metadata": {
      "needs_background": "light"
     },
     "output_type": "display_data"
    }
   ],
   "source": [
    "# For Class 1, 3 and 4\n",
    "options=[1,3,4]\n",
    "df3class= df.loc[df['label'].isin(options)]\n",
    "sns.countplot(x = 'label', data=df3class)"
   ]
  },
  {
   "cell_type": "code",
   "execution_count": null,
   "metadata": {},
   "outputs": [],
   "source": [
    "#Under sample   or Over Sample"
   ]
  },
  {
   "cell_type": "code",
   "execution_count": null,
   "metadata": {},
   "outputs": [],
   "source": []
  },
  {
   "cell_type": "code",
   "execution_count": 7,
   "metadata": {},
   "outputs": [],
   "source": [
    "#Create input output data\n",
    "X = df3class.iloc[:, 0:-1]\n",
    "y = df3class.iloc[:, -1]"
   ]
  },
  {
   "cell_type": "code",
   "execution_count": 8,
   "metadata": {},
   "outputs": [],
   "source": [
    "# Split into train+val (80%) and test(20%)\n",
    "#X_train, X_test, y_train, y_test = train_test_split(X, y, test_size=0.2, stratify=y, random_state=69) \n",
    "\n",
    "# implementing train-test-split\n",
    "X_train, X_test, y_train, y_test = train_test_split(X, y, test_size=0.33, random_state=66)"
   ]
  },
  {
   "cell_type": "code",
   "execution_count": null,
   "metadata": {},
   "outputs": [],
   "source": [
    "from sklearn import model_selection\n",
    "from sklearn.ensemble import RandomForestClassifier\n",
    "# random forest model creation\n",
    "rfc = RandomForestClassifier()\n",
    "rfc.fit(X_train,y_train)\n",
    "# predictions\n",
    "rfc_predict = rfc.predict(X_test)"
   ]
  },
  {
   "cell_type": "code",
   "execution_count": null,
   "metadata": {},
   "outputs": [],
   "source": [
    "rfc_cv_score = cross_val_score(rfc, X, y, cv=7)"
   ]
  },
  {
   "cell_type": "code",
   "execution_count": null,
   "metadata": {},
   "outputs": [],
   "source": [
    "print(\"=== Confusion Matrix ===\")\n",
    "cm=confusion_matrix(y_test, rfc_predict)\n",
    "print(cm)\n",
    "print('\\n')\n",
    "cm=(cm.astype('float') / cm.sum(axis=1)[:, np.newaxis])\n",
    "print(cm)\n",
    "print('\\n')\n",
    "print(\"=== Classification Report ===\")\n",
    "print(classification_report(y_test, rfc_predict))\n",
    "print('\\n')\n",
    "print(\"=== All AUC Scores ===\")\n",
    "print(rfc_cv_score)\n",
    "print('\\n')\n",
    "print(\"=== Mean AUC Score ===\")\n",
    "print(\"Mean AUC Score - Random Forest: \", rfc_cv_score.mean())"
   ]
  },
  {
   "cell_type": "code",
   "execution_count": null,
   "metadata": {},
   "outputs": [],
   "source": [
    "print(\"=== Confusion Matrix ===\")\n",
    "confusion_matrix=confusion_matrix(y_test, rfc_predict)\n",
    "confusion_matrix=(confusion_matrix.astype('float') / confusion_matrix.sum(axis=1)[:, np.newaxis])\n",
    "print(np.round(confusion_matrix,2))\n",
    "#print(confusion_matrix)\n",
    "print('\\n')\n",
    "print(\"=== Classification Report ===\")\n",
    "print(classification_report(y_test, rfc_predict))\n",
    "print('\\n')\n",
    "print(\"=== All AUC Scores ===\")\n",
    "print(rfc_cv_score)\n",
    "print('\\n')\n",
    "print(\"=== Mean AUC Score ===\")\n",
    "print(\"Mean AUC Score - Random Forest: \", rfc_cv_score.mean())"
   ]
  },
  {
   "cell_type": "markdown",
   "metadata": {},
   "source": [
    "Data are separated by participant\n",
    "Each file contains the following information sequential number, x acceleration, y acceleration, z acceleration, label Labels are codified by numbers\n",
    "\n",
    "1: Working at Computer\n",
    "\n",
    "2: Standing Up, Walking and Going updown stairs\n",
    "\n",
    "3: Standing\n",
    "\n",
    "4: Walking\n",
    "\n",
    "5: Going UpDown Stairs\n",
    "\n",
    "6: Walking and Talking with Someone\n",
    "\n",
    "7: Talking while Standing"
   ]
  },
  {
   "cell_type": "code",
   "execution_count": null,
   "metadata": {},
   "outputs": [],
   "source": [
    "confusion_matrix"
   ]
  },
  {
   "cell_type": "code",
   "execution_count": null,
   "metadata": {},
   "outputs": [],
   "source": [
    "np.round(confusion_matrix,2)"
   ]
  },
  {
   "cell_type": "code",
   "execution_count": null,
   "metadata": {},
   "outputs": [],
   "source": [
    "vmin = np.min(confusion_matrix)\n",
    "vmax = np.max(confusion_matrix)\n",
    "off_diag_mask = np.eye(*confusion_matrix.shape, dtype=bool)\n",
    "\n",
    "fig = plt.figure()\n",
    "sns.heatmap(confusion_matrix, annot=True, mask=~off_diag_mask, cmap='Blues', vmin=vmin, vmax=vmax)\n",
    "sns.heatmap(confusion_matrix, annot=True, mask=off_diag_mask, cmap='OrRd', vmin=vmin, vmax=vmax, cbar_kws=dict(ticks=[]))"
   ]
  },
  {
   "cell_type": "code",
   "execution_count": null,
   "metadata": {},
   "outputs": [],
   "source": [
    "fig = plt.figure()\n",
    "gs0 = matplotlib.gridspec.GridSpec(1,2, width_ratios=[20,2], hspace=0.05)\n",
    "gs00 = matplotlib.gridspec.GridSpecFromSubplotSpec(1,2, subplot_spec=gs0[1], hspace=0)\n",
    "\n",
    "ax = fig.add_subplot(gs0[0])\n",
    "cax1 = fig.add_subplot(gs00[0])\n",
    "cax2 = fig.add_subplot(gs00[1])\n",
    "\n",
    "sns.heatmap(confusion_matrix, annot=True, mask=~off_diag_mask, cmap='Blues', vmin=vmin, vmax=vmax, ax=ax, cbar_ax=cax2)\n",
    "sns.heatmap(confusion_matrix, annot=True, mask=off_diag_mask, cmap='OrRd', vmin=vmin, vmax=vmax, ax=ax, cbar_ax=cax1, cbar_kws=dict(ticks=[]))"
   ]
  },
  {
   "cell_type": "code",
   "execution_count": null,
   "metadata": {},
   "outputs": [],
   "source": []
  },
  {
   "cell_type": "code",
   "execution_count": null,
   "metadata": {},
   "outputs": [],
   "source": []
  }
 ],
 "metadata": {
  "kernelspec": {
   "display_name": "Python 3",
   "language": "python",
   "name": "python3"
  },
  "language_info": {
   "codemirror_mode": {
    "name": "ipython",
    "version": 3
   },
   "file_extension": ".py",
   "mimetype": "text/x-python",
   "name": "python",
   "nbconvert_exporter": "python",
   "pygments_lexer": "ipython3",
   "version": "3.6.12"
  }
 },
 "nbformat": 4,
 "nbformat_minor": 4
}
