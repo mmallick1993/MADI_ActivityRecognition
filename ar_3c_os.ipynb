{
 "cells": [
  {
   "cell_type": "code",
   "execution_count": 24,
   "metadata": {},
   "outputs": [],
   "source": [
    "import numpy as np\n",
    "import pandas as pd\n",
    "import seaborn as sns\n",
    "from tqdm.notebook import tqdm\n",
    "import matplotlib.pyplot as plt\n",
    "\n",
    "import torch\n",
    "import torch.nn as nn\n",
    "import torch.optim as optim\n",
    "from torch.utils.data import Dataset, DataLoader, WeightedRandomSampler\n",
    "\n",
    "from sklearn.preprocessing import MinMaxScaler    \n",
    "from sklearn.model_selection import train_test_split\n",
    "from sklearn.metrics import confusion_matrix, classification_report\n",
    "from imblearn.over_sampling import RandomOverSampler\n",
    "from imblearn.under_sampling import RandomUnderSampler\n",
    "\n"
   ]
  },
  {
   "cell_type": "markdown",
   "metadata": {},
   "source": [
    "## Data are separated by participant\n",
    "Each file contains the following information\n",
    "sequential number, x acceleration, y acceleration, z acceleration, label\n",
    "Labels are codified by numbers\n",
    "\n",
    "1: Working at Computer\n",
    "\n",
    "2: Standing Up, Walking and Going updown stairs\n",
    "\n",
    "3: Standing\n",
    "\n",
    "4: Walking\n",
    "\n",
    "5: Going UpDown Stairs\n",
    "\n",
    "6: Walking and Talking with Someone\n",
    "\n",
    "7: Talking while Standing\n"
   ]
  },
  {
   "cell_type": "code",
   "execution_count": 25,
   "metadata": {},
   "outputs": [
    {
     "data": {
      "text/html": [
       "<div>\n",
       "<style scoped>\n",
       "    .dataframe tbody tr th:only-of-type {\n",
       "        vertical-align: middle;\n",
       "    }\n",
       "\n",
       "    .dataframe tbody tr th {\n",
       "        vertical-align: top;\n",
       "    }\n",
       "\n",
       "    .dataframe thead th {\n",
       "        text-align: right;\n",
       "    }\n",
       "</style>\n",
       "<table border=\"1\" class=\"dataframe\">\n",
       "  <thead>\n",
       "    <tr style=\"text-align: right;\">\n",
       "      <th></th>\n",
       "      <th>x</th>\n",
       "      <th>y</th>\n",
       "      <th>z</th>\n",
       "      <th>label</th>\n",
       "    </tr>\n",
       "  </thead>\n",
       "  <tbody>\n",
       "    <tr>\n",
       "      <th>0</th>\n",
       "      <td>1502</td>\n",
       "      <td>2215</td>\n",
       "      <td>2153</td>\n",
       "      <td>1</td>\n",
       "    </tr>\n",
       "    <tr>\n",
       "      <th>1</th>\n",
       "      <td>1667</td>\n",
       "      <td>2072</td>\n",
       "      <td>2047</td>\n",
       "      <td>1</td>\n",
       "    </tr>\n",
       "    <tr>\n",
       "      <th>2</th>\n",
       "      <td>1611</td>\n",
       "      <td>1957</td>\n",
       "      <td>1906</td>\n",
       "      <td>1</td>\n",
       "    </tr>\n",
       "    <tr>\n",
       "      <th>3</th>\n",
       "      <td>1601</td>\n",
       "      <td>1939</td>\n",
       "      <td>1831</td>\n",
       "      <td>1</td>\n",
       "    </tr>\n",
       "    <tr>\n",
       "      <th>4</th>\n",
       "      <td>1643</td>\n",
       "      <td>1965</td>\n",
       "      <td>1879</td>\n",
       "      <td>1</td>\n",
       "    </tr>\n",
       "  </tbody>\n",
       "</table>\n",
       "</div>"
      ],
      "text/plain": [
       "      x     y     z  label\n",
       "0  1502  2215  2153      1\n",
       "1  1667  2072  2047      1\n",
       "2  1611  1957  1906      1\n",
       "3  1601  1939  1831      1\n",
       "4  1643  1965  1879      1"
      ]
     },
     "execution_count": 25,
     "metadata": {},
     "output_type": "execute_result"
    }
   ],
   "source": [
    "df_all = pd.read_csv(\"1.csv\", names=[\"Sequence\", \"x\", \"y\", \"z\",\"label\"])\n",
    "df_all=df_all.drop('Sequence',axis=1)\n",
    "df_all.head()"
   ]
  },
  {
   "cell_type": "markdown",
   "metadata": {},
   "source": [
    "#### Class Distribution "
   ]
  },
  {
   "cell_type": "code",
   "execution_count": 26,
   "metadata": {},
   "outputs": [
    {
     "data": {
      "text/plain": [
       "<AxesSubplot:xlabel='label', ylabel='count'>"
      ]
     },
     "execution_count": 26,
     "metadata": {},
     "output_type": "execute_result"
    },
    {
     "data": {
      "image/png": "[encoded data removed]",
      "text/plain": [
       "<Figure size 432x288 with 1 Axes>"
      ]
     },
     "metadata": {
      "needs_background": "light"
     },
     "output_type": "display_data"
    }
   ],
   "source": [
    "sns.countplot(x = 'label', data=df_all)"
   ]
  },
  {
   "cell_type": "code",
   "execution_count": 27,
   "metadata": {},
   "outputs": [
    {
     "data": {
      "text/plain": [
       "<AxesSubplot:xlabel='label', ylabel='count'>"
      ]
     },
     "execution_count": 27,
     "metadata": {},
     "output_type": "execute_result"
    },
    {
     "data": {
      "image/png": "[encoded data removed]",
      "text/plain": [
       "<Figure size 432x288 with 1 Axes>"
      ]
     },
     "metadata": {
      "needs_background": "light"
     },
     "output_type": "display_data"
    }
   ],
   "source": [
    "options=[1,4,7]\n",
    "df= df_all.loc[df_all['label'].isin(options)]\n",
    "sns.countplot(x = 'label', data=df)"
   ]
  },
  {
   "cell_type": "code",
   "execution_count": 28,
   "metadata": {},
   "outputs": [
    {
     "name": "stdout",
     "output_type": "stream",
     "text": [
      "(144285, 3)\n"
     ]
    }
   ],
   "source": [
    "X = df.iloc[:, 0:-1]\n",
    "y = df.iloc[:, -1]\n",
    "print(X.shape)"
   ]
  },
  {
   "cell_type": "code",
   "execution_count": 29,
   "metadata": {},
   "outputs": [
    {
     "name": "stdout",
     "output_type": "stream",
     "text": [
      "<bound method NDFrame.head of            x     y     z  label\n",
      "0       1502  2215  2153      1\n",
      "1       1667  2072  2047      1\n",
      "2       1611  1957  1906      1\n",
      "3       1601  1939  1831      1\n",
      "4       1643  1965  1879      1\n",
      "...      ...   ...   ...    ...\n",
      "251239  1927  2401  2039      4\n",
      "251240  1902  2390  2023      4\n",
      "251241  1848  2482  2068      4\n",
      "251242  1864  2317  2017      4\n",
      "251243  1899  2489  2020      4\n",
      "\n",
      "[251244 rows x 4 columns]>\n"
     ]
    },
    {
     "data": {
      "text/plain": [
       "<AxesSubplot:xlabel='label', ylabel='count'>"
      ]
     },
     "execution_count": 29,
     "metadata": {},
     "output_type": "execute_result"
    },
    {
     "data": {
      "image/png": "[encoded data removed]",
      "text/plain": [
       "<Figure size 432x288 with 1 Axes>"
      ]
     },
     "metadata": {
      "needs_background": "light"
     },
     "output_type": "display_data"
    }
   ],
   "source": [
    "#Over Sample\n",
    "ros= RandomOverSampler(random_state=0)\n",
    "ros.fit(X,y)\n",
    "X_resampled, y_resampled = ros.fit_sample(X,y)\n",
    "df_resample = pd.concat([X_resampled,y_resampled], axis = 1)\n",
    "print(df_resample.head)\n",
    "sns.countplot(x = 'label', data=df_resample)"
   ]
  },
  {
   "cell_type": "markdown",
   "metadata": {},
   "source": [
    "#### Encode Output\n",
    "Pytorch supports labels from 0. [0,n]\n",
    "- Dictionary class2idx , .replace method to change it, idx2class for reverse mapping"
   ]
  },
  {
   "cell_type": "code",
   "execution_count": 30,
   "metadata": {},
   "outputs": [],
   "source": [
    "class2idx = {\n",
    "    1:0,\n",
    "    4:1,\n",
    "    7:2\n",
    "}\n",
    "\n",
    "idx2class = {v: k for k, v in class2idx.items()}  # will be used later for reverse mapping\n",
    "\n",
    "df_resample['label'].replace(class2idx, inplace=True)"
   ]
  },
  {
   "cell_type": "code",
   "execution_count": 31,
   "metadata": {},
   "outputs": [
    {
     "data": {
      "text/html": [
       "<div>\n",
       "<style scoped>\n",
       "    .dataframe tbody tr th:only-of-type {\n",
       "        vertical-align: middle;\n",
       "    }\n",
       "\n",
       "    .dataframe tbody tr th {\n",
       "        vertical-align: top;\n",
       "    }\n",
       "\n",
       "    .dataframe thead th {\n",
       "        text-align: right;\n",
       "    }\n",
       "</style>\n",
       "<table border=\"1\" class=\"dataframe\">\n",
       "  <thead>\n",
       "    <tr style=\"text-align: right;\">\n",
       "      <th></th>\n",
       "      <th>x</th>\n",
       "      <th>y</th>\n",
       "      <th>z</th>\n",
       "      <th>label</th>\n",
       "    </tr>\n",
       "  </thead>\n",
       "  <tbody>\n",
       "    <tr>\n",
       "      <th>0</th>\n",
       "      <td>1502</td>\n",
       "      <td>2215</td>\n",
       "      <td>2153</td>\n",
       "      <td>0</td>\n",
       "    </tr>\n",
       "    <tr>\n",
       "      <th>1</th>\n",
       "      <td>1667</td>\n",
       "      <td>2072</td>\n",
       "      <td>2047</td>\n",
       "      <td>0</td>\n",
       "    </tr>\n",
       "    <tr>\n",
       "      <th>2</th>\n",
       "      <td>1611</td>\n",
       "      <td>1957</td>\n",
       "      <td>1906</td>\n",
       "      <td>0</td>\n",
       "    </tr>\n",
       "    <tr>\n",
       "      <th>3</th>\n",
       "      <td>1601</td>\n",
       "      <td>1939</td>\n",
       "      <td>1831</td>\n",
       "      <td>0</td>\n",
       "    </tr>\n",
       "    <tr>\n",
       "      <th>4</th>\n",
       "      <td>1643</td>\n",
       "      <td>1965</td>\n",
       "      <td>1879</td>\n",
       "      <td>0</td>\n",
       "    </tr>\n",
       "    <tr>\n",
       "      <th>...</th>\n",
       "      <td>...</td>\n",
       "      <td>...</td>\n",
       "      <td>...</td>\n",
       "      <td>...</td>\n",
       "    </tr>\n",
       "    <tr>\n",
       "      <th>251234</th>\n",
       "      <td>1848</td>\n",
       "      <td>2385</td>\n",
       "      <td>2026</td>\n",
       "      <td>1</td>\n",
       "    </tr>\n",
       "    <tr>\n",
       "      <th>251235</th>\n",
       "      <td>1919</td>\n",
       "      <td>2285</td>\n",
       "      <td>2035</td>\n",
       "      <td>1</td>\n",
       "    </tr>\n",
       "    <tr>\n",
       "      <th>251236</th>\n",
       "      <td>1907</td>\n",
       "      <td>2317</td>\n",
       "      <td>2001</td>\n",
       "      <td>1</td>\n",
       "    </tr>\n",
       "    <tr>\n",
       "      <th>251237</th>\n",
       "      <td>1869</td>\n",
       "      <td>2238</td>\n",
       "      <td>2001</td>\n",
       "      <td>1</td>\n",
       "    </tr>\n",
       "    <tr>\n",
       "      <th>251238</th>\n",
       "      <td>1831</td>\n",
       "      <td>2334</td>\n",
       "      <td>2143</td>\n",
       "      <td>1</td>\n",
       "    </tr>\n",
       "  </tbody>\n",
       "</table>\n",
       "<p>251239 rows × 4 columns</p>\n",
       "</div>"
      ],
      "text/plain": [
       "           x     y     z  label\n",
       "0       1502  2215  2153      0\n",
       "1       1667  2072  2047      0\n",
       "2       1611  1957  1906      0\n",
       "3       1601  1939  1831      0\n",
       "4       1643  1965  1879      0\n",
       "...      ...   ...   ...    ...\n",
       "251234  1848  2385  2026      1\n",
       "251235  1919  2285  2035      1\n",
       "251236  1907  2317  2001      1\n",
       "251237  1869  2238  2001      1\n",
       "251238  1831  2334  2143      1\n",
       "\n",
       "[251239 rows x 4 columns]"
      ]
     },
     "execution_count": 31,
     "metadata": {},
     "output_type": "execute_result"
    }
   ],
   "source": [
    "df_resample.head(-5)\n",
    "#df_resample.to_csv(r'C:\\Users\\antonebert\\Desktop\\WS2021 Programing\\MADI\\file.csv', index= None, header=True)"
   ]
  },
  {
   "cell_type": "code",
   "execution_count": 32,
   "metadata": {},
   "outputs": [],
   "source": [
    "#Create input output data\n",
    "X = df_resample.iloc[:, 0:-1]\n",
    "y = df_resample.iloc[:, -1]"
   ]
  },
  {
   "cell_type": "markdown",
   "metadata": {},
   "source": [
    "#### Stratification\n",
    "Let’s assume you are doing a multiclass classification and have an imbalanced dataset that has 5 different classes. You do a simple train-test split that does a random split totally disregarding the distribution or proportions of the classes. What happens in this scenario is that you end up with a train and a test set with totally different data distributions. A model trained on a vastly different data distribution than the test set will perform inferiorly at validation. \n",
    "For more info: https://towardsdatascience.com/3-things-you-need-to-know-before-you-train-test-split-869dfabb7e50"
   ]
  },
  {
   "cell_type": "code",
   "execution_count": 33,
   "metadata": {},
   "outputs": [],
   "source": [
    "# Split into train+val (80%) and test(20%)\n",
    "X_trainval, X_test, y_trainval, y_test = train_test_split(X, y, test_size=0.2, stratify=y, random_state=69) \n",
    "\n",
    "# Split train into train-val(train 72%, val 8%)\n",
    "X_train, X_val, y_train, y_val = train_test_split(X_trainval, y_trainval, test_size=0.1, stratify=y_trainval, random_state=21)"
   ]
  },
  {
   "cell_type": "markdown",
   "metadata": {},
   "source": [
    "\n",
    "#### fit: transform: fit_transform:\n",
    "\n",
    "\"fit\" computes the mean and std to be used for later scaling. (just a computation), nothing is given to you. \n",
    "\"transform\" uses a previously computed mean and std to autoscale the data (subtract mean from all values and then divide it by std). \n",
    "\"fit_transform\" does both at the same time.\n",
    "\n",
    "#### Note:\n",
    "We use .fit_transform() on X_train while we use .transform() on X_val and X_test.\n",
    "We do this because we want to scale the validation and test set with the same parameters as that of the train set to avoid data leakage.\n"
   ]
  },
  {
   "cell_type": "code",
   "execution_count": 34,
   "metadata": {},
   "outputs": [],
   "source": [
    "scaler = MinMaxScaler()\n",
    "X_train = scaler.fit_transform(X_train) #mean and std used later to autoscale\n",
    "X_val = scaler.transform(X_val)\n",
    "X_test = scaler.transform(X_test)\n",
    "X_train, y_train = np.array(X_train), np.array(y_train)\n",
    "X_val, y_val = np.array(X_val), np.array(y_val)\n",
    "X_test, y_test = np.array(X_test), np.array(y_test)"
   ]
  },
  {
   "cell_type": "markdown",
   "metadata": {},
   "source": [
    "## Neural Network"
   ]
  },
  {
   "cell_type": "code",
   "execution_count": 35,
   "metadata": {},
   "outputs": [],
   "source": [
    "class ClassifierDataset(Dataset):\n",
    "    \n",
    "    def __init__(self, X_data, y_data):\n",
    "        self.X_data = X_data\n",
    "        self.y_data = y_data\n",
    "        \n",
    "    def __getitem__(self, index):\n",
    "        return self.X_data[index], self.y_data[index]\n",
    "        \n",
    "    def __len__ (self):\n",
    "        return len(self.X_data)\n",
    "\n",
    "\n",
    "train_dataset = ClassifierDataset(torch.from_numpy(X_train).float(), torch.from_numpy(y_train).long())\n",
    "val_dataset = ClassifierDataset(torch.from_numpy(X_val).float(), torch.from_numpy(y_val).long())\n",
    "test_dataset = ClassifierDataset(torch.from_numpy(X_test).float(), torch.from_numpy(y_test).long())"
   ]
  },
  {
   "cell_type": "code",
   "execution_count": 36,
   "metadata": {},
   "outputs": [],
   "source": [
    "EPOCHS = 50\n",
    "BATCH_SIZE = 8\n",
    "LEARNING_RATE = 0.05\n",
    "NUM_FEATURES = len(X.columns)\n",
    "NUM_CLASSES = 3\n"
   ]
  },
  {
   "cell_type": "markdown",
   "metadata": {},
   "source": [
    "#### Dataloader"
   ]
  },
  {
   "cell_type": "code",
   "execution_count": 37,
   "metadata": {},
   "outputs": [],
   "source": [
    "train_loader = DataLoader(dataset=train_dataset,\n",
    "                          batch_size=BATCH_SIZE\n",
    ")\n",
    "val_loader = DataLoader(dataset=val_dataset, batch_size=1)\n",
    "test_loader = DataLoader(dataset=test_dataset, batch_size=1)"
   ]
  },
  {
   "cell_type": "markdown",
   "metadata": {},
   "source": [
    "#### Define Neural Net Architechture"
   ]
  },
  {
   "cell_type": "code",
   "execution_count": 38,
   "metadata": {},
   "outputs": [],
   "source": [
    "class MulticlassClassification(nn.Module):\n",
    "    def __init__(self, num_feature, num_class):\n",
    "        super(MulticlassClassification, self).__init__()\n",
    "        \n",
    "        self.layer_1 = nn.Linear(num_feature, 512)\n",
    "        self.layer_2 = nn.Linear(512, 128)\n",
    "        self.layer_3 = nn.Linear(128, 64)\n",
    "        self.layer_out = nn.Linear(64, num_class) \n",
    "        \n",
    "        self.relu = nn.ReLU()\n",
    "        self.dropout = nn.Dropout(p=0.25)\n",
    "        self.batchnorm1 = nn.BatchNorm1d(512)\n",
    "        self.batchnorm2 = nn.BatchNorm1d(128)\n",
    "        self.batchnorm3 = nn.BatchNorm1d(64)\n",
    "        \n",
    "    def forward(self, x):\n",
    "        x = self.layer_1(x)\n",
    "        x = self.batchnorm1(x)\n",
    "        x = self.relu(x)\n",
    "        \n",
    "        x = self.layer_2(x)\n",
    "        x = self.batchnorm2(x)\n",
    "        x = self.relu(x)\n",
    "        x = self.dropout(x)\n",
    "        \n",
    "        x = self.layer_3(x)\n",
    "        x = self.batchnorm3(x)\n",
    "        x = self.relu(x)\n",
    "        x = self.dropout(x)\n",
    "        \n",
    "        x = self.layer_out(x)\n",
    "        \n",
    "        return x"
   ]
  },
  {
   "cell_type": "code",
   "execution_count": 39,
   "metadata": {},
   "outputs": [
    {
     "name": "stdout",
     "output_type": "stream",
     "text": [
      "cuda:0\n"
     ]
    }
   ],
   "source": [
    "device = torch.device(\"cuda:0\" if torch.cuda.is_available() else \"cpu\")\n",
    "print(device)"
   ]
  },
  {
   "cell_type": "code",
   "execution_count": 40,
   "metadata": {},
   "outputs": [
    {
     "name": "stdout",
     "output_type": "stream",
     "text": [
      "MulticlassClassification(\n",
      "  (layer_1): Linear(in_features=3, out_features=512, bias=True)\n",
      "  (layer_2): Linear(in_features=512, out_features=128, bias=True)\n",
      "  (layer_3): Linear(in_features=128, out_features=64, bias=True)\n",
      "  (layer_out): Linear(in_features=64, out_features=3, bias=True)\n",
      "  (relu): ReLU()\n",
      "  (dropout): Dropout(p=0.25, inplace=False)\n",
      "  (batchnorm1): BatchNorm1d(512, eps=1e-05, momentum=0.1, affine=True, track_running_stats=True)\n",
      "  (batchnorm2): BatchNorm1d(128, eps=1e-05, momentum=0.1, affine=True, track_running_stats=True)\n",
      "  (batchnorm3): BatchNorm1d(64, eps=1e-05, momentum=0.1, affine=True, track_running_stats=True)\n",
      ")\n"
     ]
    }
   ],
   "source": [
    "model = MulticlassClassification(num_feature = NUM_FEATURES, num_class=NUM_CLASSES)\n",
    "model.to(device)\n",
    "\n",
    "#criterion = nn.CrossEntropyLoss(weight=class_weights.to(device))\n",
    "criterion = nn.CrossEntropyLoss()\n",
    "optimizer = optim.Adam(model.parameters(), lr=LEARNING_RATE)\n",
    "print(model)\n"
   ]
  },
  {
   "cell_type": "markdown",
   "metadata": {},
   "source": [
    "#### Train Model"
   ]
  },
  {
   "cell_type": "code",
   "execution_count": 41,
   "metadata": {},
   "outputs": [],
   "source": [
    "def multi_acc(y_pred, y_test):\n",
    "    y_pred_softmax = torch.log_softmax(y_pred, dim = 1)\n",
    "    _, y_pred_tags = torch.max(y_pred_softmax, dim = 1)    \n",
    "    \n",
    "    correct_pred = (y_pred_tags == y_test).float()\n",
    "    acc = correct_pred.sum() / len(correct_pred)\n",
    "    \n",
    "    acc = torch.round(acc) * 100\n",
    "    \n",
    "    return acc"
   ]
  },
  {
   "cell_type": "code",
   "execution_count": 42,
   "metadata": {},
   "outputs": [],
   "source": [
    "accuracy_stats = {\n",
    "    'train': [],\n",
    "    \"val\": []\n",
    "}\n",
    "loss_stats = {\n",
    "    'train': [],\n",
    "    \"val\": []\n",
    "}"
   ]
  },
  {
   "cell_type": "code",
   "execution_count": 43,
   "metadata": {},
   "outputs": [
    {
     "name": "stdout",
     "output_type": "stream",
     "text": [
      "Training....\n"
     ]
    },
    {
     "data": {
      "application/vnd.jupyter.widget-view+json": {
       "model_id": "932956e8d481436da2dd8404a5feba60",
       "version_major": 2,
       "version_minor": 0
      },
      "text/plain": [
       "HBox(children=(HTML(value=''), FloatProgress(value=0.0, max=50.0), HTML(value='')))"
      ]
     },
     "metadata": {},
     "output_type": "display_data"
    },
    {
     "name": "stdout",
     "output_type": "stream",
     "text": [
      "Epoch 001: | Train Loss: 0.49286 | Val Loss: 0.32999 | Train Acc: 95.011| Val Acc: 91.363\n",
      "Epoch 002: | Train Loss: 0.47898 | Val Loss: 0.30429 | Train Acc: 96.139| Val Acc: 91.109\n",
      "Epoch 003: | Train Loss: 0.46675 | Val Loss: 0.27551 | Train Acc: 96.436| Val Acc: 92.308\n",
      "Epoch 004: | Train Loss: 0.46143 | Val Loss: 0.31259 | Train Acc: 96.555| Val Acc: 92.100\n",
      "Epoch 005: | Train Loss: 0.45798 | Val Loss: 0.27125 | Train Acc: 96.692| Val Acc: 92.697\n",
      "Epoch 006: | Train Loss: 0.45565 | Val Loss: 0.27787 | Train Acc: 96.834| Val Acc: 92.682\n",
      "Epoch 007: | Train Loss: 0.45054 | Val Loss: 0.30225 | Train Acc: 96.798| Val Acc: 92.199\n",
      "Epoch 008: | Train Loss: 0.44733 | Val Loss: 0.29979 | Train Acc: 96.935| Val Acc: 92.189\n",
      "Epoch 009: | Train Loss: 0.44571 | Val Loss: 0.26510 | Train Acc: 97.055| Val Acc: 92.980\n",
      "Epoch 010: | Train Loss: 0.44381 | Val Loss: 0.27590 | Train Acc: 97.033| Val Acc: 92.159\n",
      "Epoch 011: | Train Loss: 0.44235 | Val Loss: 0.25677 | Train Acc: 97.165| Val Acc: 92.960\n",
      "Epoch 012: | Train Loss: 0.44110 | Val Loss: 0.28537 | Train Acc: 97.094| Val Acc: 92.861\n",
      "Epoch 013: | Train Loss: 0.44351 | Val Loss: 0.26033 | Train Acc: 97.254| Val Acc: 92.816\n",
      "Epoch 014: | Train Loss: 0.44890 | Val Loss: 0.30858 | Train Acc: 96.860| Val Acc: 92.826\n",
      "Epoch 015: | Train Loss: 0.47394 | Val Loss: 0.29157 | Train Acc: 96.033| Val Acc: 93.085\n",
      "Epoch 016: | Train Loss: 0.47211 | Val Loss: 0.27265 | Train Acc: 96.104| Val Acc: 93.124\n",
      "Epoch 017: | Train Loss: 0.47135 | Val Loss: 0.29415 | Train Acc: 96.122| Val Acc: 92.836\n",
      "Epoch 018: | Train Loss: 0.46762 | Val Loss: 0.27461 | Train Acc: 96.254| Val Acc: 92.900\n",
      "Epoch 019: | Train Loss: 0.46677 | Val Loss: 0.29363 | Train Acc: 96.356| Val Acc: 92.502\n",
      "Epoch 020: | Train Loss: 0.46617 | Val Loss: 0.30098 | Train Acc: 96.183| Val Acc: 92.453\n",
      "Epoch 021: | Train Loss: 0.46892 | Val Loss: 0.28360 | Train Acc: 96.152| Val Acc: 92.841\n",
      "Epoch 022: | Train Loss: 0.46599 | Val Loss: 0.30246 | Train Acc: 96.347| Val Acc: 91.433\n",
      "Epoch 023: | Train Loss: 0.46148 | Val Loss: 0.31003 | Train Acc: 96.351| Val Acc: 92.189\n",
      "Epoch 024: | Train Loss: 0.46512 | Val Loss: 0.28801 | Train Acc: 96.294| Val Acc: 92.965\n",
      "Epoch 025: | Train Loss: 0.46125 | Val Loss: 0.30176 | Train Acc: 96.595| Val Acc: 91.682\n",
      "Epoch 026: | Train Loss: 0.46411 | Val Loss: 0.29081 | Train Acc: 96.378| Val Acc: 93.129\n",
      "Epoch 027: | Train Loss: 0.46327 | Val Loss: 0.28346 | Train Acc: 96.466| Val Acc: 92.333\n",
      "Epoch 028: | Train Loss: 0.46216 | Val Loss: 0.27142 | Train Acc: 96.369| Val Acc: 92.403\n",
      "Epoch 029: | Train Loss: 0.46289 | Val Loss: 0.31022 | Train Acc: 96.400| Val Acc: 92.413\n",
      "Epoch 030: | Train Loss: 0.46105 | Val Loss: 0.29585 | Train Acc: 96.281| Val Acc: 90.716\n",
      "Epoch 031: | Train Loss: 0.45943 | Val Loss: 0.26146 | Train Acc: 96.586| Val Acc: 93.095\n",
      "Epoch 032: | Train Loss: 0.45979 | Val Loss: 0.28158 | Train Acc: 96.374| Val Acc: 92.697\n",
      "Epoch 033: | Train Loss: 0.46124 | Val Loss: 0.30670 | Train Acc: 96.462| Val Acc: 92.284\n",
      "Epoch 034: | Train Loss: 0.45890 | Val Loss: 0.33790 | Train Acc: 96.595| Val Acc: 92.015\n",
      "Epoch 035: | Train Loss: 0.46044 | Val Loss: 0.28986 | Train Acc: 96.312| Val Acc: 92.139\n",
      "Epoch 036: | Train Loss: 0.45865 | Val Loss: 0.28825 | Train Acc: 96.608| Val Acc: 92.731\n",
      "Epoch 037: | Train Loss: 0.45981 | Val Loss: 0.33181 | Train Acc: 96.577| Val Acc: 91.114\n",
      "Epoch 038: | Train Loss: 0.52391 | Val Loss: 0.31426 | Train Acc: 92.000| Val Acc: 92.896\n",
      "Epoch 039: | Train Loss: 0.53458 | Val Loss: 0.35533 | Train Acc: 91.478| Val Acc: 92.144\n",
      "Epoch 040: | Train Loss: 0.53484 | Val Loss: 0.32656 | Train Acc: 91.182| Val Acc: 92.736\n",
      "Epoch 041: | Train Loss: 0.53206 | Val Loss: 0.34569 | Train Acc: 90.846| Val Acc: 92.244\n",
      "Epoch 042: | Train Loss: 0.64183 | Val Loss: 0.47846 | Train Acc: 88.024| Val Acc: 92.816\n",
      "Epoch 043: | Train Loss: 0.65622 | Val Loss: 0.44762 | Train Acc: 87.759| Val Acc: 92.657\n",
      "Epoch 044: | Train Loss: 0.65364 | Val Loss: 0.53649 | Train Acc: 87.431| Val Acc: 90.861\n",
      "Epoch 045: | Train Loss: 0.65245 | Val Loss: 0.42388 | Train Acc: 88.046| Val Acc: 92.995\n",
      "Epoch 046: | Train Loss: 0.65295 | Val Loss: 0.58270 | Train Acc: 87.913| Val Acc: 92.493\n",
      "Epoch 047: | Train Loss: 0.65275 | Val Loss: 0.54105 | Train Acc: 87.577| Val Acc: 90.244\n",
      "Epoch 048: | Train Loss: 0.65066 | Val Loss: 0.44906 | Train Acc: 87.608| Val Acc: 92.652\n",
      "Epoch 049: | Train Loss: 0.64728 | Val Loss: 0.45834 | Train Acc: 88.139| Val Acc: 92.980\n",
      "Epoch 050: | Train Loss: 0.64898 | Val Loss: 0.63187 | Train Acc: 88.139| Val Acc: 83.766\n",
      "\n"
     ]
    }
   ],
   "source": [
    "print(\"Training....\")\n",
    "for e in tqdm(range(1, EPOCHS+1)):\n",
    "    \n",
    "    # TRAINING\n",
    "    train_epoch_loss = 0\n",
    "    train_epoch_acc = 0\n",
    "    \n",
    "    model.train()\n",
    "    for X_train_batch, y_train_batch in train_loader:\n",
    "        X_train_batch, y_train_batch = X_train_batch.to(device), y_train_batch.to(device)\n",
    "        optimizer.zero_grad()\n",
    "        \n",
    "        y_train_pred = model(X_train_batch)\n",
    "        \n",
    "        train_loss = criterion(y_train_pred, y_train_batch)\n",
    "        train_acc = multi_acc(y_train_pred, y_train_batch)\n",
    "        \n",
    "        train_loss.backward()\n",
    "        optimizer.step()\n",
    "        \n",
    "        train_epoch_loss += train_loss.item()\n",
    "        train_epoch_acc += train_acc.item()\n",
    "        \n",
    "        \n",
    "    # VALIDATION    \n",
    "    with torch.no_grad():\n",
    "        \n",
    "        val_epoch_loss = 0\n",
    "        val_epoch_acc = 0\n",
    "        \n",
    "        model.eval()\n",
    "        for X_val_batch, y_val_batch in val_loader:\n",
    "            X_val_batch, y_val_batch = X_val_batch.to(device), y_val_batch.to(device)\n",
    "            \n",
    "            y_val_pred = model(X_val_batch)\n",
    "                        \n",
    "            val_loss = criterion(y_val_pred, y_val_batch)\n",
    "            val_acc = multi_acc(y_val_pred, y_val_batch)\n",
    "            \n",
    "            val_epoch_loss += val_loss.item()\n",
    "            val_epoch_acc += val_acc.item()\n",
    "            \n",
    "    loss_stats['train'].append(train_epoch_loss/len(train_loader))\n",
    "    loss_stats['val'].append(val_epoch_loss/len(val_loader))\n",
    "    accuracy_stats['train'].append(train_epoch_acc/len(train_loader))\n",
    "    accuracy_stats['val'].append(val_epoch_acc/len(val_loader))\n",
    "                              \n",
    "    \n",
    "    print(f'Epoch {e+0:03}: | Train Loss: {train_epoch_loss/len(train_loader):.5f} | Val Loss: {val_epoch_loss/len(val_loader):.5f} | Train Acc: {train_epoch_acc/len(train_loader):.3f}| Val Acc: {val_epoch_acc/len(val_loader):.3f}')"
   ]
  },
  {
   "cell_type": "code",
   "execution_count": 44,
   "metadata": {},
   "outputs": [
    {
     "data": {
      "text/plain": [
       "Text(0.5, 1.0, 'Train-Val Loss/Epoch')"
      ]
     },
     "execution_count": 44,
     "metadata": {},
     "output_type": "execute_result"
    },
    {
     "data": {
      "image/png": "[encoded data removed]",
      "text/plain": [
       "<Figure size 1440x504 with 2 Axes>"
      ]
     },
     "metadata": {
      "needs_background": "light"
     },
     "output_type": "display_data"
    }
   ],
   "source": [
    "# Create dataframes\n",
    "train_val_acc_df = pd.DataFrame.from_dict(accuracy_stats).reset_index().melt(id_vars=['index']).rename(columns={\"index\":\"epochs\"})\n",
    "train_val_loss_df = pd.DataFrame.from_dict(loss_stats).reset_index().melt(id_vars=['index']).rename(columns={\"index\":\"epochs\"})\n",
    "# Plot the dataframes\n",
    "fig, axes = plt.subplots(nrows=1, ncols=2, figsize=(20,7))\n",
    "sns.lineplot(data=train_val_acc_df, x = \"epochs\", y=\"value\", hue=\"variable\",  ax=axes[0]).set_title('Train-Val Accuracy/Epoch')\n",
    "sns.lineplot(data=train_val_loss_df, x = \"epochs\", y=\"value\", hue=\"variable\", ax=axes[1]).set_title('Train-Val Loss/Epoch')"
   ]
  },
  {
   "cell_type": "code",
   "execution_count": 45,
   "metadata": {},
   "outputs": [],
   "source": [
    "y_pred_list = []\n",
    "with torch.no_grad():\n",
    "    model.eval()\n",
    "    for X_batch, _ in test_loader:\n",
    "        X_batch = X_batch.to(device)\n",
    "        y_test_pred = model(X_batch)\n",
    "        y_pred_softmax = torch.log_softmax(y_test_pred, dim = 1)\n",
    "        _, y_pred_tags = torch.max(y_pred_softmax, dim = 1)\n",
    "        y_pred_list.append(y_pred_tags.cpu().numpy())\n",
    "y_pred_list = [a.squeeze().tolist() for a in y_pred_list]"
   ]
  },
  {
   "cell_type": "code",
   "execution_count": 46,
   "metadata": {},
   "outputs": [
    {
     "name": "stdout",
     "output_type": "stream",
     "text": [
      "       1      4      7\n",
      "1  15736    999     14\n",
      "4    478  15979    293\n",
      "7     97   6233  10420\n"
     ]
    },
    {
     "data": {
      "text/plain": [
       "<AxesSubplot:>"
      ]
     },
     "execution_count": 46,
     "metadata": {},
     "output_type": "execute_result"
    },
    {
     "data": {
      "image/png": "[encoded data removed]",
      "text/plain": [
       "<Figure size 432x288 with 2 Axes>"
      ]
     },
     "metadata": {
      "needs_background": "light"
     },
     "output_type": "display_data"
    }
   ],
   "source": [
    "confusion_matrix_df = pd.DataFrame(confusion_matrix(y_test, y_pred_list)).rename(columns=idx2class, index=idx2class)\n",
    "print(confusion_matrix_df)\n",
    "sns.heatmap(confusion_matrix_df, annot=True)"
   ]
  },
  {
   "cell_type": "code",
   "execution_count": 47,
   "metadata": {},
   "outputs": [
    {
     "name": "stdout",
     "output_type": "stream",
     "text": [
      "              precision    recall  f1-score   support\n",
      "\n",
      "           0       0.96      0.94      0.95     16749\n",
      "           1       0.69      0.95      0.80     16750\n",
      "           2       0.97      0.62      0.76     16750\n",
      "\n",
      "    accuracy                           0.84     50249\n",
      "   macro avg       0.87      0.84      0.84     50249\n",
      "weighted avg       0.87      0.84      0.84     50249\n",
      "\n"
     ]
    }
   ],
   "source": [
    "print(classification_report(y_test, y_pred_list))"
   ]
  },
  {
   "cell_type": "markdown",
   "metadata": {},
   "source": [
    "              precision    recall  f1-score   support\n",
    "\n",
    "           1       1.00      0.97      0.98      6735\n",
    "           2       0.00      0.00      0.00       186\n",
    "           3       0.51      0.60      0.55      2236\n",
    "           4       0.81      0.97      0.88      5372\n",
    "           5       0.62      0.64      0.63       638\n",
    "           6       0.32      0.50      0.39       583\n",
    "           7       1.00      0.91      0.96     16750\n",
    "\n",
    "    accuracy                           0.89     32500\n",
    "   macro avg       0.61      0.66      0.63     32500\n",
    "weighted avg       0.91      0.89      0.90     32500"
   ]
  },
  {
   "cell_type": "code",
   "execution_count": null,
   "metadata": {},
   "outputs": [],
   "source": []
  }
 ],
 "metadata": {
  "kernelspec": {
   "display_name": "Python 3",
   "language": "python",
   "name": "python3"
  },
  "language_info": {
   "codemirror_mode": {
    "name": "ipython",
    "version": 3
   },
   "file_extension": ".py",
   "mimetype": "text/x-python",
   "name": "python",
   "nbconvert_exporter": "python",
   "pygments_lexer": "ipython3",
   "version": "3.6.12"
  }
 },
 "nbformat": 4,
 "nbformat_minor": 4
}
