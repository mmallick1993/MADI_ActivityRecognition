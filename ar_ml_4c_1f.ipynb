{
 "cells": [
  {
   "cell_type": "code",
   "execution_count": 15,
   "metadata": {},
   "outputs": [],
   "source": [
    "import numpy as np\n",
    "import pandas as pd\n",
    "import seaborn as sns\n",
    "from tqdm.notebook import tqdm\n",
    "import matplotlib.pyplot as plt\n",
    "from os import chdir\n",
    "from glob import glob\n",
    "import pandas as pd\n",
    "import glob\n",
    "import os\n",
    "\n",
    "from sklearn.preprocessing import MinMaxScaler    \n",
    "from sklearn.model_selection import train_test_split\n",
    "from sklearn.metrics import confusion_matrix, classification_report\n",
    "from sklearn.model_selection import cross_val_score\n"
   ]
  },
  {
   "cell_type": "code",
   "execution_count": 16,
   "metadata": {},
   "outputs": [
    {
     "name": "stdout",
     "output_type": "stream",
     "text": [
      "(163739, 4)\n"
     ]
    },
    {
     "data": {
      "text/plain": [
       "<bound method NDFrame.head of            x     y     z  label\n",
       "0       2249  2677  2046      1\n",
       "1       2270  2568  2005      1\n",
       "2       2222  2565  2003      1\n",
       "3       2235  2571  2074      1\n",
       "4       2205  2559  2075      1\n",
       "...      ...   ...   ...    ...\n",
       "166734  2071  2549  2053      7\n",
       "166735  2072  2545  2059      7\n",
       "166736  2069  2547  2064      7\n",
       "166737  2069  2542  2062      7\n",
       "166738  2069  2543  2063      7\n",
       "\n",
       "[163739 rows x 4 columns]>"
      ]
     },
     "execution_count": 16,
     "metadata": {},
     "output_type": "execute_result"
    }
   ],
   "source": [
    "df = pd.read_csv(r\"C:\\Users\\antonebert\\Desktop\\WS2021 Programing\\MADI\\Activity Recognition from Single Chest-Mounted Accelerometer\\9.csv\")\n",
    "df.columns=['Sequence','x','y','z','label']\n",
    "df=df.drop(columns=['Sequence'])\n",
    "\n",
    "df=df[df[\"label\"] != 0] #data cleaning: Leaving out unlabeled data || (3719, 4)\n",
    "print(df.shape)\n",
    "\n",
    "df.head\n"
   ]
  },
  {
   "cell_type": "markdown",
   "metadata": {},
   "source": [
    "## Data are separated by participant\n",
    "Each file contains the following information\n",
    "sequential number, x acceleration, y acceleration, z acceleration, label\n",
    "Labels are codified by numbers\n",
    "\n",
    "1: Working at Computer\n",
    "\n",
    "2: Standing Up, Walking and Going updown stairs\n",
    "\n",
    "3: Standing\n",
    "\n",
    "4: Walking\n",
    "\n",
    "5: Going UpDown Stairs\n",
    "\n",
    "6: Walking and Talking with Someone\n",
    "\n",
    "7: Talking while Standing\n"
   ]
  },
  {
   "cell_type": "markdown",
   "metadata": {},
   "source": [
    "#### Class Distribution "
   ]
  },
  {
   "cell_type": "code",
   "execution_count": 17,
   "metadata": {},
   "outputs": [
    {
     "data": {
      "text/plain": [
       "<AxesSubplot:xlabel='label', ylabel='count'>"
      ]
     },
     "execution_count": 17,
     "metadata": {},
     "output_type": "execute_result"
    },
    {
     "data": {
      "image/png": "[encoded data removed]",
      "text/plain": [
       "<Figure size 432x288 with 1 Axes>"
      ]
     },
     "metadata": {
      "needs_background": "light"
     },
     "output_type": "display_data"
    }
   ],
   "source": [
    "sns.countplot(x = 'label', data=df)"
   ]
  },
  {
   "cell_type": "code",
   "execution_count": 18,
   "metadata": {},
   "outputs": [
    {
     "data": {
      "text/html": [
       "<div>\n",
       "<style scoped>\n",
       "    .dataframe tbody tr th:only-of-type {\n",
       "        vertical-align: middle;\n",
       "    }\n",
       "\n",
       "    .dataframe tbody tr th {\n",
       "        vertical-align: top;\n",
       "    }\n",
       "\n",
       "    .dataframe thead th {\n",
       "        text-align: right;\n",
       "    }\n",
       "</style>\n",
       "<table border=\"1\" class=\"dataframe\">\n",
       "  <thead>\n",
       "    <tr style=\"text-align: right;\">\n",
       "      <th></th>\n",
       "      <th>x</th>\n",
       "      <th>y</th>\n",
       "      <th>z</th>\n",
       "      <th>label</th>\n",
       "    </tr>\n",
       "  </thead>\n",
       "  <tbody>\n",
       "    <tr>\n",
       "      <th>0</th>\n",
       "      <td>2249</td>\n",
       "      <td>2677</td>\n",
       "      <td>2046</td>\n",
       "      <td>1</td>\n",
       "    </tr>\n",
       "    <tr>\n",
       "      <th>1</th>\n",
       "      <td>2270</td>\n",
       "      <td>2568</td>\n",
       "      <td>2005</td>\n",
       "      <td>1</td>\n",
       "    </tr>\n",
       "    <tr>\n",
       "      <th>2</th>\n",
       "      <td>2222</td>\n",
       "      <td>2565</td>\n",
       "      <td>2003</td>\n",
       "      <td>1</td>\n",
       "    </tr>\n",
       "    <tr>\n",
       "      <th>3</th>\n",
       "      <td>2235</td>\n",
       "      <td>2571</td>\n",
       "      <td>2074</td>\n",
       "      <td>1</td>\n",
       "    </tr>\n",
       "    <tr>\n",
       "      <th>4</th>\n",
       "      <td>2205</td>\n",
       "      <td>2559</td>\n",
       "      <td>2075</td>\n",
       "      <td>1</td>\n",
       "    </tr>\n",
       "    <tr>\n",
       "      <th>...</th>\n",
       "      <td>...</td>\n",
       "      <td>...</td>\n",
       "      <td>...</td>\n",
       "      <td>...</td>\n",
       "    </tr>\n",
       "    <tr>\n",
       "      <th>166729</th>\n",
       "      <td>2073</td>\n",
       "      <td>2542</td>\n",
       "      <td>2063</td>\n",
       "      <td>7</td>\n",
       "    </tr>\n",
       "    <tr>\n",
       "      <th>166730</th>\n",
       "      <td>2070</td>\n",
       "      <td>2540</td>\n",
       "      <td>2065</td>\n",
       "      <td>7</td>\n",
       "    </tr>\n",
       "    <tr>\n",
       "      <th>166731</th>\n",
       "      <td>2074</td>\n",
       "      <td>2547</td>\n",
       "      <td>2064</td>\n",
       "      <td>7</td>\n",
       "    </tr>\n",
       "    <tr>\n",
       "      <th>166732</th>\n",
       "      <td>2071</td>\n",
       "      <td>2548</td>\n",
       "      <td>2061</td>\n",
       "      <td>7</td>\n",
       "    </tr>\n",
       "    <tr>\n",
       "      <th>166733</th>\n",
       "      <td>2065</td>\n",
       "      <td>2544</td>\n",
       "      <td>2060</td>\n",
       "      <td>7</td>\n",
       "    </tr>\n",
       "  </tbody>\n",
       "</table>\n",
       "<p>163734 rows × 4 columns</p>\n",
       "</div>"
      ],
      "text/plain": [
       "           x     y     z  label\n",
       "0       2249  2677  2046      1\n",
       "1       2270  2568  2005      1\n",
       "2       2222  2565  2003      1\n",
       "3       2235  2571  2074      1\n",
       "4       2205  2559  2075      1\n",
       "...      ...   ...   ...    ...\n",
       "166729  2073  2542  2063      7\n",
       "166730  2070  2540  2065      7\n",
       "166731  2074  2547  2064      7\n",
       "166732  2071  2548  2061      7\n",
       "166733  2065  2544  2060      7\n",
       "\n",
       "[163734 rows x 4 columns]"
      ]
     },
     "execution_count": 18,
     "metadata": {},
     "output_type": "execute_result"
    }
   ],
   "source": [
    "df.head(-5)"
   ]
  },
  {
   "cell_type": "code",
   "execution_count": 19,
   "metadata": {},
   "outputs": [],
   "source": [
    "#Create input output data\n",
    "X = df.iloc[:, 0:-1]\n",
    "y = df.iloc[:, -1]"
   ]
  },
  {
   "cell_type": "code",
   "execution_count": 20,
   "metadata": {},
   "outputs": [],
   "source": [
    "# Split into train+val (80%) and test(20%)\n",
    "#X_train, X_test, y_train, y_test = train_test_split(X, y, test_size=0.2, stratify=y, random_state=69) \n",
    "\n",
    "# implementing train-test-split\n",
    "X_train, X_test, y_train, y_test = train_test_split(X, y, test_size=0.33, random_state=66)"
   ]
  },
  {
   "cell_type": "code",
   "execution_count": 21,
   "metadata": {},
   "outputs": [],
   "source": [
    "from sklearn import model_selection\n",
    "from sklearn.ensemble import RandomForestClassifier\n",
    "# random forest model creation\n",
    "rfc = RandomForestClassifier()\n",
    "rfc.fit(X_train,y_train)\n",
    "# predictions\n",
    "rfc_predict = rfc.predict(X_test)"
   ]
  },
  {
   "cell_type": "code",
   "execution_count": 22,
   "metadata": {},
   "outputs": [],
   "source": [
    "rfc_cv_score = cross_val_score(rfc, X, y, cv=7)"
   ]
  },
  {
   "cell_type": "code",
   "execution_count": 24,
   "metadata": {},
   "outputs": [
    {
     "name": "stdout",
     "output_type": "stream",
     "text": [
      "=== Confusion Matrix ===\n",
      "[[0.95 0.   0.01 0.02 0.   0.   0.02]\n",
      " [0.82 0.12 0.   0.01 0.03 0.   0.02]\n",
      " [0.03 0.   0.27 0.34 0.03 0.   0.33]\n",
      " [0.03 0.   0.05 0.84 0.01 0.   0.08]\n",
      " [0.04 0.   0.16 0.33 0.08 0.   0.39]\n",
      " [0.01 0.   0.02 0.21 0.   0.03 0.73]\n",
      " [0.01 0.   0.02 0.03 0.01 0.   0.93]]\n",
      "\n",
      "\n",
      "=== Classification Report ===\n",
      "              precision    recall  f1-score   support\n",
      "\n",
      "           1       0.94      0.95      0.94     11820\n",
      "           2       0.22      0.12      0.16       104\n",
      "           3       0.44      0.27      0.33      3781\n",
      "           4       0.72      0.84      0.77      8826\n",
      "           5       0.19      0.08      0.11      1013\n",
      "           6       0.14      0.03      0.05       854\n",
      "           7       0.89      0.93      0.91     27636\n",
      "\n",
      "    accuracy                           0.84     54034\n",
      "   macro avg       0.50      0.46      0.47     54034\n",
      "weighted avg       0.82      0.84      0.82     54034\n",
      "\n",
      "\n",
      "\n",
      "=== All AUC Scores ===\n",
      "[0.63363543 0.84631498 0.86892395 0.86546107 0.84977128 0.81975974\n",
      " 0.75477748]\n",
      "\n",
      "\n",
      "=== Mean AUC Score ===\n",
      "Mean AUC Score - Random Forest:  0.8055205607137641\n"
     ]
    }
   ],
   "source": [
    "print(\"=== Confusion Matrix ===\")\n",
    "confusion_matrix=confusion_matrix(y_test, rfc_predict)\n",
    "confusion_matrix=(confusion_matrix.astype('float') / confusion_matrix.sum(axis=1)[:, np.newaxis])\n",
    "print(np.round(confusion_matrix,2))\n",
    "print('\\n')\n",
    "print(\"=== Classification Report ===\")\n",
    "classification_report=classification_report(y_test, rfc_predict)\n",
    "print(classification_report)\n",
    "print('\\n')\n",
    "print(\"=== All AUC Scores ===\")\n",
    "print(rfc_cv_score)\n",
    "print('\\n')\n",
    "print(\"=== Mean AUC Score ===\")\n",
    "print(\"Mean AUC Score - Random Forest: \", rfc_cv_score.mean())\n",
    "sns.heatmap(confusion_matrix, annot=True, cmap='Blues')"
   ]
  },
  {
   "cell_type": "markdown",
   "metadata": {},
   "source": [
    "Data are separated by participant\n",
    "Each file contains the following information sequential number, x acceleration, y acceleration, z acceleration, label Labels are codified by numbers\n",
    "\n",
    "1: Working at Computer\n",
    "\n",
    "2: Standing Up, Walking and Going updown stairs\n",
    "\n",
    "3: Standing\n",
    "\n",
    "4: Walking\n",
    "\n",
    "5: Going UpDown Stairs\n",
    "\n",
    "6: Walking and Talking with Someone\n",
    "\n",
    "7: Talking while Standing"
   ]
  },
  {
   "cell_type": "code",
   "execution_count": 26,
   "metadata": {},
   "outputs": [
    {
     "data": {
      "text/plain": [
       "<AxesSubplot:>"
      ]
     },
     "execution_count": 26,
     "metadata": {},
     "output_type": "execute_result"
    },
    {
     "data": {
      "image/png": "[encoded data removed]",
      "text/plain": [
       "<Figure size 432x288 with 2 Axes>"
      ]
     },
     "metadata": {
      "needs_background": "light"
     },
     "output_type": "display_data"
    }
   ],
   "source": []
  },
  {
   "cell_type": "code",
   "execution_count": null,
   "metadata": {},
   "outputs": [],
   "source": []
  },
  {
   "cell_type": "code",
   "execution_count": null,
   "metadata": {},
   "outputs": [],
   "source": []
  }
 ],
 "metadata": {
  "kernelspec": {
   "display_name": "Python 3",
   "language": "python",
   "name": "python3"
  },
  "language_info": {
   "codemirror_mode": {
    "name": "ipython",
    "version": 3
   },
   "file_extension": ".py",
   "mimetype": "text/x-python",
   "name": "python",
   "nbconvert_exporter": "python",
   "pygments_lexer": "ipython3",
   "version": "3.6.12"
  }
 },
 "nbformat": 4,
 "nbformat_minor": 4
}
