{
 "cells": [
  {
   "cell_type": "code",
   "execution_count": 88,
   "metadata": {},
   "outputs": [
    {
     "name": "stdout",
     "output_type": "stream",
     "text": [
      "['C:/Users/antonebert/Desktop/Sem 5 Programing/MADI/Activity Recognition from Single Chest-Mounted Accelerometer\\\\1.csv', 'C:/Users/antonebert/Desktop/Sem 5 Programing/MADI/Activity Recognition from Single Chest-Mounted Accelerometer\\\\2.csv', 'C:/Users/antonebert/Desktop/Sem 5 Programing/MADI/Activity Recognition from Single Chest-Mounted Accelerometer\\\\3.csv', 'C:/Users/antonebert/Desktop/Sem 5 Programing/MADI/Activity Recognition from Single Chest-Mounted Accelerometer\\\\4.csv', 'C:/Users/antonebert/Desktop/Sem 5 Programing/MADI/Activity Recognition from Single Chest-Mounted Accelerometer\\\\5.csv', 'C:/Users/antonebert/Desktop/Sem 5 Programing/MADI/Activity Recognition from Single Chest-Mounted Accelerometer\\\\6.csv', 'C:/Users/antonebert/Desktop/Sem 5 Programing/MADI/Activity Recognition from Single Chest-Mounted Accelerometer\\\\7.csv']\n",
      "file (162501, 5)\n",
      "(162501, 5)\n",
      "file (138001, 5)\n",
      "(300502, 5)\n",
      "file (102341, 5)\n",
      "(402843, 5)\n",
      "file (122201, 5)\n",
      "(525044, 5)\n",
      "file (160001, 5)\n",
      "(685045, 5)\n",
      "file (140901, 5)\n",
      "(825946, 5)\n",
      "file (163001, 5)\n",
      "(988947, 5)\n",
      "(988947, 5)\n",
      "               0       1       2       3    4\n",
      "0            0.0  1892.0  2279.0  1781.0  1.0\n",
      "1            1.0  1895.0  2283.0  1785.0  1.0\n",
      "2            2.0  1889.0  2279.0  1794.0  1.0\n",
      "3            3.0  1892.0  2276.0  1794.0  1.0\n",
      "4            4.0  1892.0  2280.0  1787.0  1.0\n",
      "...          ...     ...     ...     ...  ...\n",
      "988842  162000.0  1931.0  2384.0  2089.0  7.0\n",
      "988843  162000.0  1929.0  2380.0  2084.0  7.0\n",
      "988844  162000.0  1930.0  2387.0  2087.0  7.0\n",
      "988845  162000.0  1934.0  2382.0  2083.0  7.0\n",
      "988846  162000.0  1927.0  2385.0  2078.0  7.0\n",
      "\n",
      "[988847 rows x 5 columns]\n"
     ]
    }
   ],
   "source": [
    "from os import chdir\n",
    "from glob import glob\n",
    "import pandas as pd\n",
    "import glob\n",
    "\n",
    "#bigdata = data1.append(data2, ignore_index=True)\n",
    "#pd.concat([data1, data2], ignore_index=True, sort=False)\n",
    "\n",
    "\n",
    "\n",
    "def mergeCSV(file_list):\n",
    "    #df_merge=pd.DataFrame([\"Sequence\", \"x\", \"y\", \"z\",'label'])\n",
    "    df_merge=pd.DataFrame()\n",
    "    for file in file_list:\n",
    "        df=pd.read_csv(file, header=None)\n",
    "        print('file',df.shape)\n",
    "        df_merge=pd.concat([df, df_merge],  ignore_index=True)\n",
    "        print(df_merge.shape)\n",
    "    print(df_merge.shape)\n",
    "    print(df_merge.head(-100))\n",
    "    \n",
    "    return df_merge\n",
    "    #df_merge.to_csv(file_out, index=False, encoding=\"utf-8\")\n",
    "    \n",
    "\n",
    "file_list=[]\n",
    "\n",
    "for filepath in glob.iglob(r'C:/Users/antonebert/Desktop/Sem 5 Programing/MADI/Activity Recognition from Single Chest-Mounted Accelerometer/*.csv'):\n",
    "    file_list.append(filepath)\n",
    "\n",
    "print(file_list)\n",
    "df_merge=mergeCSV(file_list)"
   ]
  },
  {
   "cell_type": "code",
   "execution_count": 89,
   "metadata": {},
   "outputs": [
    {
     "name": "stdout",
     "output_type": "stream",
     "text": [
      "(988947, 5)\n"
     ]
    }
   ],
   "source": [
    "print(df_merge.shape)"
   ]
  },
  {
   "cell_type": "code",
   "execution_count": 18,
   "metadata": {},
   "outputs": [
    {
     "data": {
      "text/html": [
       "<div>\n",
       "<style scoped>\n",
       "    .dataframe tbody tr th:only-of-type {\n",
       "        vertical-align: middle;\n",
       "    }\n",
       "\n",
       "    .dataframe tbody tr th {\n",
       "        vertical-align: top;\n",
       "    }\n",
       "\n",
       "    .dataframe thead th {\n",
       "        text-align: right;\n",
       "    }\n",
       "</style>\n",
       "<table border=\"1\" class=\"dataframe\">\n",
       "  <thead>\n",
       "    <tr style=\"text-align: right;\">\n",
       "      <th></th>\n",
       "      <th>0</th>\n",
       "      <th>2287</th>\n",
       "      <th>2948</th>\n",
       "      <th>2189</th>\n",
       "      <th>1</th>\n",
       "    </tr>\n",
       "  </thead>\n",
       "  <tbody>\n",
       "    <tr>\n",
       "      <th>0</th>\n",
       "      <td>1.0</td>\n",
       "      <td>2249.0</td>\n",
       "      <td>2677.0</td>\n",
       "      <td>2046.0</td>\n",
       "      <td>1.0</td>\n",
       "    </tr>\n",
       "    <tr>\n",
       "      <th>1</th>\n",
       "      <td>2.0</td>\n",
       "      <td>2270.0</td>\n",
       "      <td>2568.0</td>\n",
       "      <td>2005.0</td>\n",
       "      <td>1.0</td>\n",
       "    </tr>\n",
       "    <tr>\n",
       "      <th>2</th>\n",
       "      <td>3.0</td>\n",
       "      <td>2222.0</td>\n",
       "      <td>2565.0</td>\n",
       "      <td>2003.0</td>\n",
       "      <td>1.0</td>\n",
       "    </tr>\n",
       "    <tr>\n",
       "      <th>3</th>\n",
       "      <td>4.0</td>\n",
       "      <td>2235.0</td>\n",
       "      <td>2571.0</td>\n",
       "      <td>2074.0</td>\n",
       "      <td>1.0</td>\n",
       "    </tr>\n",
       "    <tr>\n",
       "      <th>4</th>\n",
       "      <td>5.0</td>\n",
       "      <td>2205.0</td>\n",
       "      <td>2559.0</td>\n",
       "      <td>2075.0</td>\n",
       "      <td>1.0</td>\n",
       "    </tr>\n",
       "  </tbody>\n",
       "</table>\n",
       "</div>"
      ],
      "text/plain": [
       "     0    2287    2948    2189    1\n",
       "0  1.0  2249.0  2677.0  2046.0  1.0\n",
       "1  2.0  2270.0  2568.0  2005.0  1.0\n",
       "2  3.0  2222.0  2565.0  2003.0  1.0\n",
       "3  4.0  2235.0  2571.0  2074.0  1.0\n",
       "4  5.0  2205.0  2559.0  2075.0  1.0"
      ]
     },
     "execution_count": 18,
     "metadata": {},
     "output_type": "execute_result"
    }
   ],
   "source": [
    "df.head()"
   ]
  }
 ],
 "metadata": {
  "kernelspec": {
   "display_name": "Python 3",
   "language": "python",
   "name": "python3"
  },
  "language_info": {
   "codemirror_mode": {
    "name": "ipython",
    "version": 3
   },
   "file_extension": ".py",
   "mimetype": "text/x-python",
   "name": "python",
   "nbconvert_exporter": "python",
   "pygments_lexer": "ipython3",
   "version": "3.6.12"
  }
 },
 "nbformat": 4,
 "nbformat_minor": 4
}
